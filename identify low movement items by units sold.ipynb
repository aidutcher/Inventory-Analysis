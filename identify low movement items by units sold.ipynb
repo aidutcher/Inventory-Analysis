{
 "cells": [
  {
   "cell_type": "code",
   "execution_count": 1,
   "metadata": {},
   "outputs": [],
   "source": [
    "import pandas as pd\n",
    "import pyodbc\n",
    "from datetime import date"
   ]
  },
  {
   "cell_type": "markdown",
   "metadata": {},
   "source": [
    "Establish trusted connection to SQL Server"
   ]
  },
  {
   "cell_type": "code",
   "execution_count": 2,
   "metadata": {},
   "outputs": [],
   "source": [
    "server = 'localhost\\SQLEXPRESS'\n",
    "database = 'Inventory Analysis'\n",
    "username = 'aidut'\n",
    "\n",
    "cnxn = pyodbc.connect('DRIVER={ODBC Driver 17 for SQL Server};SERVER='+server+';DATABASE='+database+';TRUSTED_CONNECTION=YES')"
   ]
  },
  {
   "cell_type": "markdown",
   "metadata": {},
   "source": [
    "Selecting all data from dc1UsageData, representing the data from one distribution center"
   ]
  },
  {
   "cell_type": "code",
   "execution_count": 3,
   "metadata": {},
   "outputs": [],
   "source": [
    "select = 'SELECT * FROM dbo.dc1UsageData'\n",
    "df = pd.read_sql(select,cnxn)"
   ]
  },
  {
   "cell_type": "markdown",
   "metadata": {},
   "source": [
    "Checking out the data"
   ]
  },
  {
   "cell_type": "code",
   "execution_count": 4,
   "metadata": {},
   "outputs": [
    {
     "name": "stdout",
     "output_type": "stream",
     "text": [
      "Index(['ITEM', 'PER1', 'PER2', 'PER3', 'PER4', 'PER5', 'PER6', 'PER7', 'PER8',\n",
      "       'PER9', 'PER10', 'PER11', 'PER12', 'Vendor', 'Total_Use', 'Unit_Cost',\n",
      "       'Avg_Sell', 'Lead_Time', 'Item_Category'],\n",
      "      dtype='object')\n"
     ]
    }
   ],
   "source": [
    "print(df.columns)"
   ]
  },
  {
   "cell_type": "code",
   "execution_count": 5,
   "metadata": {},
   "outputs": [
    {
     "name": "stdout",
     "output_type": "stream",
     "text": [
      "            ITEM  PER1  PER2  PER3  PER4  PER5  PER6  PER7  PER8  PER9  PER10  \\\n",
      "0  NOH0H6L3ICV1M  37.0  16.0  19.0  15.0  17.0   7.0   2.0  16.0 -10.0   17.0   \n",
      "1  NKR8HHK6S586P  12.0   2.0   1.0  20.0  12.0  30.0  36.0  17.0  13.0   27.0   \n",
      "2  QNB0VMKRJJAN4   9.0  14.0  12.0  12.0  18.0  11.0  16.0  13.0   5.0    2.0   \n",
      "3  ILHUXETF2JQIL   9.0  29.0  12.0  30.0   0.0  12.0  -1.0  10.0  20.0    8.0   \n",
      "4  NOH1YY4UR7GXY  32.0   4.0   2.0   7.0  11.0   5.0  16.0  20.0   1.0   29.0   \n",
      "\n",
      "   PER11  PER12 Vendor  Total_Use  Unit_Cost  Avg_Sell Lead_Time Item_Category  \n",
      "0   15.0    4.0    NOH      155.0      74.56  106.6208         1      Plastics  \n",
      "1   -7.0   -2.0    NKR      161.0       8.78   12.5554         8         China  \n",
      "2    1.0   15.0    QNB      128.0      11.66   16.6738        26     Equipment  \n",
      "3   10.0   16.0    ILH      155.0      30.88   44.1584        24      Utensils  \n",
      "4   -1.0   16.0    NOH      142.0      79.36  113.4848         8      Plastics  \n"
     ]
    }
   ],
   "source": [
    "print(df.head())"
   ]
  },
  {
   "cell_type": "markdown",
   "metadata": {},
   "source": [
    "Identify low-movement items in Pandas"
   ]
  },
  {
   "cell_type": "code",
   "execution_count": 7,
   "metadata": {},
   "outputs": [
    {
     "name": "stdout",
     "output_type": "stream",
     "text": [
      "              ITEM  Total_Use\n",
      "62   WNVN52DJM6MUW       45.0\n",
      "85   EERO8ECEGRWGT       45.0\n",
      "153  DUVDXGTP2OW1C       25.0\n",
      "239  WNVNRBO94P972       45.0\n",
      "264  WXTN4SYXHWFR5       43.0\n",
      "667  NKRS33VSO32OP       43.0\n",
      "783  XSDOBE7UKPU1T       43.0\n",
      "926  DUVHYFC51UA2U       47.0\n",
      "944  WNVFQ5Q9Z4LWH       40.0\n",
      "978  EERG1HWR8KRCF       48.0\n"
     ]
    }
   ],
   "source": [
    "low_move_items = df[df['Total_Use']<50]\n",
    "print(low_move_items[['ITEM','Total_Use']])"
   ]
  },
  {
   "cell_type": "markdown",
   "metadata": {},
   "source": [
    "We can modify our SQL string to select only the low movement items"
   ]
  },
  {
   "cell_type": "code",
   "execution_count": 8,
   "metadata": {},
   "outputs": [
    {
     "name": "stdout",
     "output_type": "stream",
     "text": [
      "            ITEM  Total_Use\n",
      "0  WNVN52DJM6MUW       45.0\n",
      "1  EERO8ECEGRWGT       45.0\n",
      "2  DUVDXGTP2OW1C       25.0\n",
      "3  WNVNRBO94P972       45.0\n",
      "4  WXTN4SYXHWFR5       43.0\n",
      "5  NKRS33VSO32OP       43.0\n",
      "6  XSDOBE7UKPU1T       43.0\n",
      "7  DUVHYFC51UA2U       47.0\n",
      "8  WNVFQ5Q9Z4LWH       40.0\n",
      "9  EERG1HWR8KRCF       48.0\n"
     ]
    }
   ],
   "source": [
    "low_select = \"SELECT * FROM dbo.dc1UsageData WHERE Total_Use < 50\"\n",
    "sql_low_move = pd.read_sql(low_select,cnxn)\n",
    "print(sql_low_move[['ITEM','Total_Use']])"
   ]
  },
  {
   "cell_type": "markdown",
   "metadata": {},
   "source": [
    "We want to save these to a file to take action on later."
   ]
  },
  {
   "cell_type": "code",
   "execution_count": null,
   "metadata": {},
   "outputs": [],
   "source": [
    "today = date.today()\n",
    "file_date = today.strftime(\"%b-%d-%Y\")\n",
    "\n",
    "file_path = r'C:\\Users\\aidut\\Documents\\Inventory\\target_items-' + file_date + '.csv'\n",
    "low_move_items.to_csv(file_path)"
   ]
  }
 ],
 "metadata": {
  "kernelspec": {
   "display_name": "Python 3",
   "language": "python",
   "name": "python3"
  },
  "language_info": {
   "codemirror_mode": {
    "name": "ipython",
    "version": 3
   },
   "file_extension": ".py",
   "mimetype": "text/x-python",
   "name": "python",
   "nbconvert_exporter": "python",
   "pygments_lexer": "ipython3",
   "version": "3.8.5"
  }
 },
 "nbformat": 4,
 "nbformat_minor": 4
}
